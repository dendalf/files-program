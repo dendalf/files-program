{
 "cells": [
  {
   "cell_type": "code",
   "execution_count": 214,
   "id": "73159971",
   "metadata": {},
   "outputs": [],
   "source": [
    "import pandas\n",
    "file1 = pandas.read_excel(\"files/file_1.xlsx\", sheet_name = 0)\n",
    "file2 = pandas.read_excel(\"files/file_2.xlsx\", sheet_name = 0)\n",
    "file_out = pandas.read_excel(\"files/file_output.xlsx\", sheet_name = 0)\n",
    "arr_pos = [file1,file2]\n",
    "arr_neg = []\n",
    "# file1.set_index(\"id\", inplace=True, drop=False)\n",
    "# file2.set_index(\"id\", inplace=True, drop=False)\n",
    "# file_out.set_index(\"id\", inplace=True, drop=False)\n"
   ]
  },
  {
   "cell_type": "code",
   "execution_count": 218,
   "id": "6e88bbd6",
   "metadata": {},
   "outputs": [],
   "source": [
    "for pmt in arr_pos:\n",
    "    file_out = pandas.merge(file_out, pmt, on=('id'), how ='outer')\n"
   ]
  },
  {
   "cell_type": "code",
   "execution_count": 219,
   "id": "4b4c0629",
   "metadata": {
    "scrolled": true
   },
   "outputs": [],
   "source": [
    "file_out[\"amount\"] = file_out[[\"amount_x\", \"amount_y\"]].sum(axis = 1, skipna = True)\n",
    "file_out = file_out.drop([\"amount_x\", \"amount_y\"], axis = 1)"
   ]
  },
  {
   "cell_type": "code",
   "execution_count": 221,
   "id": "ef3e5f47",
   "metadata": {},
   "outputs": [
    {
     "data": {
      "text/html": [
       "<div>\n",
       "<style scoped>\n",
       "    .dataframe tbody tr th:only-of-type {\n",
       "        vertical-align: middle;\n",
       "    }\n",
       "\n",
       "    .dataframe tbody tr th {\n",
       "        vertical-align: top;\n",
       "    }\n",
       "\n",
       "    .dataframe thead th {\n",
       "        text-align: right;\n",
       "    }\n",
       "</style>\n",
       "<table border=\"1\" class=\"dataframe\">\n",
       "  <thead>\n",
       "    <tr style=\"text-align: right;\">\n",
       "      <th></th>\n",
       "      <th>id</th>\n",
       "      <th>amount</th>\n",
       "    </tr>\n",
       "  </thead>\n",
       "  <tbody>\n",
       "    <tr>\n",
       "      <th>0</th>\n",
       "      <td>1</td>\n",
       "      <td>46.0</td>\n",
       "    </tr>\n",
       "    <tr>\n",
       "      <th>1</th>\n",
       "      <td>2</td>\n",
       "      <td>864.0</td>\n",
       "    </tr>\n",
       "    <tr>\n",
       "      <th>2</th>\n",
       "      <td>3</td>\n",
       "      <td>68.0</td>\n",
       "    </tr>\n",
       "    <tr>\n",
       "      <th>3</th>\n",
       "      <td>4</td>\n",
       "      <td>92.0</td>\n",
       "    </tr>\n",
       "    <tr>\n",
       "      <th>4</th>\n",
       "      <td>5</td>\n",
       "      <td>46.0</td>\n",
       "    </tr>\n",
       "    <tr>\n",
       "      <th>5</th>\n",
       "      <td>6</td>\n",
       "      <td>30.0</td>\n",
       "    </tr>\n",
       "    <tr>\n",
       "      <th>6</th>\n",
       "      <td>7</td>\n",
       "      <td>68.0</td>\n",
       "    </tr>\n",
       "    <tr>\n",
       "      <th>7</th>\n",
       "      <td>8</td>\n",
       "      <td>52.0</td>\n",
       "    </tr>\n",
       "  </tbody>\n",
       "</table>\n",
       "</div>"
      ],
      "text/plain": [
       "   id  amount\n",
       "0   1    46.0\n",
       "1   2   864.0\n",
       "2   3    68.0\n",
       "3   4    92.0\n",
       "4   5    46.0\n",
       "5   6    30.0\n",
       "6   7    68.0\n",
       "7   8    52.0"
      ]
     },
     "execution_count": 221,
     "metadata": {},
     "output_type": "execute_result"
    }
   ],
   "source": [
    "file_out"
   ]
  },
  {
   "cell_type": "code",
   "execution_count": 223,
   "id": "43111608",
   "metadata": {},
   "outputs": [
    {
     "name": "stdout",
     "output_type": "stream",
     "text": [
      "timestamp = 1647179094.303209\n"
     ]
    }
   ],
   "source": [
    "from datetime import datetime\n",
    "\n",
    "# current date and time\n",
    "now = datetime.now()\n",
    "\n",
    "timestamp = datetime.timestamp(now)\n",
    "print(\"timestamp =\", timestamp)"
   ]
  },
  {
   "cell_type": "code",
   "execution_count": 250,
   "id": "72bff84a",
   "metadata": {},
   "outputs": [
    {
     "name": "stdout",
     "output_type": "stream",
     "text": [
      "dt_object = 22-03-13_16:00:54\n",
      "type(dt_object) = <class 'str'>\n"
     ]
    }
   ],
   "source": [
    "from datetime import datetime\n",
    "\n",
    "timestamp = datetime.timestamp(datetime.now())\n",
    "dt_object = datetime.fromtimestamp(timestamp).strftime('%y-%m-%d_%H:%M:%S')\n",
    "\n",
    "print(\"dt_object =\", dt_object)\n",
    "print(\"type(dt_object) =\", type(dt_object))"
   ]
  }
 ],
 "metadata": {
  "kernelspec": {
   "display_name": "Python 3 (ipykernel)",
   "language": "python",
   "name": "python3"
  },
  "language_info": {
   "codemirror_mode": {
    "name": "ipython",
    "version": 3
   },
   "file_extension": ".py",
   "mimetype": "text/x-python",
   "name": "python",
   "nbconvert_exporter": "python",
   "pygments_lexer": "ipython3",
   "version": "3.9.7"
  }
 },
 "nbformat": 4,
 "nbformat_minor": 5
}
